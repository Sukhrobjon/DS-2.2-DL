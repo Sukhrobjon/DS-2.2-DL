{
 "cells": [
  {
   "cell_type": "markdown",
   "metadata": {},
   "source": [
    "# Aplication of AI:\n",
    "    - Speech recognation\n",
    "    - NLP\n",
    "    - Image recognation"
   ]
  },
  {
   "cell_type": "code",
   "execution_count": 1,
   "metadata": {},
   "outputs": [
    {
     "ename": "SyntaxError",
     "evalue": "invalid syntax (<ipython-input-1-a656169b3596>, line 2)",
     "output_type": "error",
     "traceback": [
      "\u001b[0;36m  File \u001b[0;32m\"<ipython-input-1-a656169b3596>\"\u001b[0;36m, line \u001b[0;32m2\u001b[0m\n\u001b[0;31m    Provides computers with the ability to learn without being explicitly programmed\u001b[0m\n\u001b[0m                     ^\u001b[0m\n\u001b[0;31mSyntaxError\u001b[0m\u001b[0;31m:\u001b[0m invalid syntax\n"
     ]
    }
   ],
   "source": [
    "# ML\n",
    "Provides computers with the ability to learn without being explicitly programmed\n",
    "\n",
    "\n"
   ]
  },
  {
   "cell_type": "markdown",
   "metadata": {},
   "source": [
    "### Limitation of mL\n",
    "    - "
   ]
  },
  {
   "cell_type": "code",
   "execution_count": 3,
   "metadata": {},
   "outputs": [
    {
     "name": "stdout",
     "output_type": "stream",
     "text": [
      "[5 2 1]\n",
      "(3,)\n"
     ]
    }
   ],
   "source": [
    "# Make a vector in numpy\n",
    "import numpy as np\n",
    "\n",
    "\n",
    "v = np.array([5, 2, 1])\n",
    "\n",
    "print(v)\n",
    "\n",
    "print(v.shape)"
   ]
  },
  {
   "cell_type": "code",
   "execution_count": 4,
   "metadata": {},
   "outputs": [
    {
     "data": {
      "text/plain": [
       "2"
      ]
     },
     "execution_count": 4,
     "metadata": {},
     "output_type": "execute_result"
    }
   ],
   "source": [
    "v[1]"
   ]
  },
  {
   "cell_type": "code",
   "execution_count": 8,
   "metadata": {},
   "outputs": [
    {
     "data": {
      "text/plain": [
       "(3,)"
      ]
     },
     "execution_count": 8,
     "metadata": {},
     "output_type": "execute_result"
    }
   ],
   "source": [
    "v.shape\n"
   ]
  },
  {
   "cell_type": "code",
   "execution_count": 9,
   "metadata": {},
   "outputs": [
    {
     "name": "stdout",
     "output_type": "stream",
     "text": [
      "[[5 2 1]]\n",
      "(1, 3)\n"
     ]
    }
   ],
   "source": [
    "v = np.array([[5, 2, 1]])\n",
    "\n",
    "# print(v)\n",
    "\n",
    "print(v.shape)"
   ]
  },
  {
   "cell_type": "code",
   "execution_count": 11,
   "metadata": {},
   "outputs": [
    {
     "name": "stdout",
     "output_type": "stream",
     "text": [
      "[[5]\n",
      " [2]\n",
      " [1]]\n"
     ]
    },
    {
     "data": {
      "text/plain": [
       "(3, 1)"
      ]
     },
     "execution_count": 11,
     "metadata": {},
     "output_type": "execute_result"
    }
   ],
   "source": [
    "v_t = np.transpose(v)\n",
    "print(v_t)\n",
    "v_t.shape # (3, 1) = (row, column)"
   ]
  },
  {
   "cell_type": "code",
   "execution_count": 12,
   "metadata": {},
   "outputs": [
    {
     "data": {
      "text/plain": [
       "array([5, 2, 1])"
      ]
     },
     "execution_count": 12,
     "metadata": {},
     "output_type": "execute_result"
    }
   ],
   "source": [
    "v[0]"
   ]
  },
  {
   "cell_type": "code",
   "execution_count": 13,
   "metadata": {},
   "outputs": [
    {
     "data": {
      "text/plain": [
       "2"
      ]
     },
     "execution_count": 13,
     "metadata": {},
     "output_type": "execute_result"
    }
   ],
   "source": [
    "v[0][1]"
   ]
  },
  {
   "cell_type": "code",
   "execution_count": 14,
   "metadata": {},
   "outputs": [],
   "source": [
    "# in DS-2.2 our input should 2d array"
   ]
  },
  {
   "cell_type": "code",
   "execution_count": 15,
   "metadata": {},
   "outputs": [
    {
     "name": "stdout",
     "output_type": "stream",
     "text": [
      "[[1 2 3]\n",
      " [2 0 1]]\n",
      "(2, 3)\n",
      "3\n"
     ]
    }
   ],
   "source": [
    "# Make a matrix\n",
    "\n",
    "matrix = np.array([[1,2,3], [2, 0, 1]])\n",
    "\n",
    "print(matrix)\n",
    "\n",
    "print(matrix.shape)\n",
    "\n",
    "print(matrix.size) # size is number of elements"
   ]
  },
  {
   "cell_type": "code",
   "execution_count": 16,
   "metadata": {},
   "outputs": [
    {
     "name": "stdout",
     "output_type": "stream",
     "text": [
      "[[1 2]\n",
      " [2 0]\n",
      " [3 1]]\n",
      "(3, 2)\n",
      "6\n"
     ]
    }
   ],
   "source": [
    "matrix_t = np.transpose(matrix)\n",
    "print(matrix_t)\n",
    "\n",
    "print(matrix_t.shape)\n",
    "\n",
    "print(matrix_t.size)"
   ]
  },
  {
   "cell_type": "code",
   "execution_count": 20,
   "metadata": {},
   "outputs": [
    {
     "name": "stdout",
     "output_type": "stream",
     "text": [
      "just a reshape like transpose:  [[1 2]\n",
      " [3 2]\n",
      " [0 1]]\n",
      "Specified 1st parameter:  [[[1 2]]\n",
      "\n",
      " [[3 2]]\n",
      "\n",
      " [[0 1]]]\n",
      "Specified 1st parameter:  [[[1 2]]\n",
      "\n",
      " [[3 2]]\n",
      "\n",
      " [[0 1]]]\n"
     ]
    }
   ],
   "source": [
    "# Arrange or reshape the matrix (2D array or 2D Tensor)\n",
    "\n",
    "v_2 = np.array([[1,2,3], [2, 0, 1]])\n",
    "\n",
    "print(\"just a reshape like transpose: \",v_2.reshape(3, 2))\n",
    "\n",
    "# By applying the following reshape we transform the amtrix into 3D Tenosor\n",
    "\n",
    "print(\"Specified 1st parameter: \",v_2.reshape(3, 1, 2))\n",
    "print(\"UNSpecified 1st parameter: \", v_2.reshape(-1, 1, 2))"
   ]
  },
  {
   "cell_type": "code",
   "execution_count": 21,
   "metadata": {},
   "outputs": [
    {
     "name": "stdout",
     "output_type": "stream",
     "text": [
      "[[[ 1.  2.  3.]\n",
      "  [ 4.  5.  6.]]\n",
      "\n",
      " [[ 7.  8.  9.]\n",
      "  [11. 12. 13.]]]\n",
      "(2, 2, 3)\n"
     ]
    }
   ],
   "source": [
    "# Make a 3D Tensor in numpy\n",
    "v = np.array([[[1., 2.,3.], [4.,5.,6.]], [[7.,8.,9.], [11.,12.,13.]]])\n",
    "\n",
    "print(v)\n",
    "\n",
    "# The first element of shape shows how many, and the second and third elements shows the dimension\n",
    "print(v.shape)"
   ]
  },
  {
   "cell_type": "code",
   "execution_count": 22,
   "metadata": {},
   "outputs": [
    {
     "name": "stdout",
     "output_type": "stream",
     "text": [
      "[[1. 2. 3.]\n",
      " [4. 5. 6.]]\n"
     ]
    }
   ],
   "source": [
    "print(v[0])"
   ]
  },
  {
   "cell_type": "code",
   "execution_count": 24,
   "metadata": {},
   "outputs": [
    {
     "name": "stdout",
     "output_type": "stream",
     "text": [
      "[[ 7.  8.  9.]\n",
      " [11. 12. 13.]]\n"
     ]
    }
   ],
   "source": [
    "print(v[1])"
   ]
  },
  {
   "cell_type": "code",
   "execution_count": 26,
   "metadata": {},
   "outputs": [],
   "source": [
    "# print(v[2]) this gives error because we have only 2 depth"
   ]
  },
  {
   "cell_type": "code",
   "execution_count": 27,
   "metadata": {},
   "outputs": [
    {
     "name": "stdout",
     "output_type": "stream",
     "text": [
      "12\n"
     ]
    }
   ],
   "source": [
    "print(v.size) # 12"
   ]
  },
  {
   "cell_type": "code",
   "execution_count": 28,
   "metadata": {},
   "outputs": [
    {
     "name": "stdout",
     "output_type": "stream",
     "text": [
      "[[[ 1.  2.]\n",
      "  [ 3.  4.]]\n",
      "\n",
      " [[ 5.  6.]\n",
      "  [ 7.  8.]]\n",
      "\n",
      " [[ 9. 11.]\n",
      "  [12. 13.]]]\n"
     ]
    }
   ],
   "source": [
    "print(v.reshape(3, 2, -1)) # this equals to v.reshape(3, 2, 2)"
   ]
  },
  {
   "cell_type": "code",
   "execution_count": 31,
   "metadata": {},
   "outputs": [
    {
     "name": "stdout",
     "output_type": "stream",
     "text": [
      "[[[ 1.  2.  3.  4.]]\n",
      "\n",
      " [[ 5.  6.  7.  8.]]\n",
      "\n",
      " [[ 9. 11. 12. 13.]]]\n"
     ]
    }
   ],
   "source": [
    "print(v.reshape(3, 1, -1))"
   ]
  },
  {
   "cell_type": "code",
   "execution_count": 41,
   "metadata": {},
   "outputs": [
    {
     "name": "stdout",
     "output_type": "stream",
     "text": [
      "[[[ 1.]\n",
      "  [ 2.]\n",
      "  [ 3.]\n",
      "  [ 4.]]\n",
      "\n",
      " [[ 5.]\n",
      "  [ 6.]\n",
      "  [ 7.]\n",
      "  [ 8.]]\n",
      "\n",
      " [[ 9.]\n",
      "  [11.]\n",
      "  [12.]\n",
      "  [13.]]]\n"
     ]
    }
   ],
   "source": [
    "print(v.reshape(3, -1, 1)) # we want one column and '-1' is '4' here which is the num of rows"
   ]
  },
  {
   "cell_type": "code",
   "execution_count": 42,
   "metadata": {},
   "outputs": [],
   "source": [
    "# Make a 4D Tensor Matrix\n",
    "\n",
    "v_4 = np.zeros((2, 3, 5, 5))"
   ]
  },
  {
   "cell_type": "code",
   "execution_count": 45,
   "metadata": {},
   "outputs": [
    {
     "name": "stdout",
     "output_type": "stream",
     "text": [
      "[[[[0. 0. 0. 0. 0.]\n",
      "   [0. 0. 0. 0. 0.]\n",
      "   [0. 0. 0. 0. 0.]\n",
      "   [0. 0. 0. 0. 0.]\n",
      "   [0. 0. 0. 0. 0.]]\n",
      "\n",
      "  [[0. 0. 0. 0. 0.]\n",
      "   [0. 0. 0. 0. 0.]\n",
      "   [0. 0. 0. 0. 0.]\n",
      "   [0. 0. 0. 0. 0.]\n",
      "   [0. 0. 0. 0. 0.]]\n",
      "\n",
      "  [[0. 0. 0. 0. 0.]\n",
      "   [0. 0. 0. 0. 0.]\n",
      "   [0. 0. 0. 0. 0.]\n",
      "   [0. 0. 0. 0. 0.]\n",
      "   [0. 0. 0. 0. 0.]]]\n",
      "\n",
      "\n",
      " [[[0. 0. 0. 0. 0.]\n",
      "   [0. 0. 0. 0. 0.]\n",
      "   [0. 0. 0. 0. 0.]\n",
      "   [0. 0. 0. 0. 0.]\n",
      "   [0. 0. 0. 0. 0.]]\n",
      "\n",
      "  [[0. 0. 0. 0. 0.]\n",
      "   [0. 0. 0. 0. 0.]\n",
      "   [0. 0. 0. 0. 0.]\n",
      "   [0. 0. 0. 0. 0.]\n",
      "   [0. 0. 0. 0. 0.]]\n",
      "\n",
      "  [[0. 0. 0. 0. 0.]\n",
      "   [0. 0. 0. 0. 0.]\n",
      "   [0. 0. 0. 0. 0.]\n",
      "   [0. 0. 0. 0. 0.]\n",
      "   [0. 0. 0. 0. 0.]]]]\n"
     ]
    }
   ],
   "source": [
    "print(v_4)"
   ]
  },
  {
   "cell_type": "code",
   "execution_count": 48,
   "metadata": {},
   "outputs": [
    {
     "name": "stdout",
     "output_type": "stream",
     "text": [
      "[[[[[0. 0. 0. 0. 0.]\n",
      "    [0. 0. 0. 0. 0.]\n",
      "    [0. 0. 0. 0. 0.]\n",
      "    [0. 0. 0. 0. 0.]\n",
      "    [0. 0. 0. 0. 0.]]\n",
      "\n",
      "   [[0. 0. 0. 0. 0.]\n",
      "    [0. 0. 0. 0. 0.]\n",
      "    [0. 0. 0. 0. 0.]\n",
      "    [0. 0. 0. 0. 0.]\n",
      "    [0. 0. 0. 0. 0.]]\n",
      "\n",
      "   [[0. 0. 0. 0. 0.]\n",
      "    [0. 0. 0. 0. 0.]\n",
      "    [0. 0. 0. 0. 0.]\n",
      "    [0. 0. 0. 0. 0.]\n",
      "    [0. 0. 0. 0. 0.]]]\n",
      "\n",
      "\n",
      "  [[[0. 0. 0. 0. 0.]\n",
      "    [0. 0. 0. 0. 0.]\n",
      "    [0. 0. 0. 0. 0.]\n",
      "    [0. 0. 0. 0. 0.]\n",
      "    [0. 0. 0. 0. 0.]]\n",
      "\n",
      "   [[0. 0. 0. 0. 0.]\n",
      "    [0. 0. 0. 0. 0.]\n",
      "    [0. 0. 0. 0. 0.]\n",
      "    [0. 0. 0. 0. 0.]\n",
      "    [0. 0. 0. 0. 0.]]\n",
      "\n",
      "   [[0. 0. 0. 0. 0.]\n",
      "    [0. 0. 0. 0. 0.]\n",
      "    [0. 0. 0. 0. 0.]\n",
      "    [0. 0. 0. 0. 0.]\n",
      "    [0. 0. 0. 0. 0.]]]]\n",
      "\n",
      "\n",
      "\n",
      " [[[[0. 0. 0. 0. 0.]\n",
      "    [0. 0. 0. 0. 0.]\n",
      "    [0. 0. 0. 0. 0.]\n",
      "    [0. 0. 0. 0. 0.]\n",
      "    [0. 0. 0. 0. 0.]]\n",
      "\n",
      "   [[0. 0. 0. 0. 0.]\n",
      "    [0. 0. 0. 0. 0.]\n",
      "    [0. 0. 0. 0. 0.]\n",
      "    [0. 0. 0. 0. 0.]\n",
      "    [0. 0. 0. 0. 0.]]\n",
      "\n",
      "   [[0. 0. 0. 0. 0.]\n",
      "    [0. 0. 0. 0. 0.]\n",
      "    [0. 0. 0. 0. 0.]\n",
      "    [0. 0. 0. 0. 0.]\n",
      "    [0. 0. 0. 0. 0.]]]\n",
      "\n",
      "\n",
      "  [[[0. 0. 0. 0. 0.]\n",
      "    [0. 0. 0. 0. 0.]\n",
      "    [0. 0. 0. 0. 0.]\n",
      "    [0. 0. 0. 0. 0.]\n",
      "    [0. 0. 0. 0. 0.]]\n",
      "\n",
      "   [[0. 0. 0. 0. 0.]\n",
      "    [0. 0. 0. 0. 0.]\n",
      "    [0. 0. 0. 0. 0.]\n",
      "    [0. 0. 0. 0. 0.]\n",
      "    [0. 0. 0. 0. 0.]]\n",
      "\n",
      "   [[0. 0. 0. 0. 0.]\n",
      "    [0. 0. 0. 0. 0.]\n",
      "    [0. 0. 0. 0. 0.]\n",
      "    [0. 0. 0. 0. 0.]\n",
      "    [0. 0. 0. 0. 0.]]]]]\n",
      "(3, 5, 5)\n",
      "(3, 5, 5)\n",
      "(3, 5, 5)\n",
      "(3, 5, 5)\n"
     ]
    }
   ],
   "source": [
    "# Make 5D Tensor in numpy\n",
    "v_5 = np.zeros((2, 2, 3, 5, 5)) # 2 by 2 and depth is 3 and the 5 by 5\n",
    "print(v_5)\n",
    "print(v[0][0].shape)\n",
    "print(v[0][1].shape)\n",
    "print(v[1][0].shape)\n",
    "print(v[1][1].shape)"
   ]
  },
  {
   "cell_type": "code",
   "execution_count": null,
   "metadata": {},
   "outputs": [],
   "source": []
  }
 ],
 "metadata": {
  "kernelspec": {
   "display_name": "Python 3",
   "language": "python",
   "name": "python3"
  },
  "language_info": {
   "codemirror_mode": {
    "name": "ipython",
    "version": 3
   },
   "file_extension": ".py",
   "mimetype": "text/x-python",
   "name": "python",
   "nbconvert_exporter": "python",
   "pygments_lexer": "ipython3",
   "version": "3.7.1"
  }
 },
 "nbformat": 4,
 "nbformat_minor": 2
}
