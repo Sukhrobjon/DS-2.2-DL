{
 "cells": [
  {
   "cell_type": "code",
   "execution_count": 6,
   "metadata": {},
   "outputs": [
    {
     "name": "stderr",
     "output_type": "stream",
     "text": [
      "Using TensorFlow backend.\n",
      "/anaconda3/lib/python3.7/importlib/_bootstrap.py:219: RuntimeWarning: compiletime version 3.6 of module 'tensorflow.python.framework.fast_tensor_util' does not match runtime version 3.7\n",
      "  return f(*args, **kwds)\n"
     ]
    }
   ],
   "source": [
    "# main imports\n",
    "import pandas as pd\n",
    "import numpy as np\n",
    "import matplotlib.pyplot as plt\n",
    "\n",
    "# sklearn\n",
    "from sklearn.model_selection import train_test_split\n",
    "from sklearn.linear_model import LogisticRegression\n",
    "from sklearn.metrics import confusion_matrix\n",
    "from sklearn.metrics import mean_squared_error, r2_score\n",
    "\n",
    "\n",
    "# keras\n",
    "import keras\n",
    "from keras.models import Sequential\n",
    "from keras.layers import Dense\n",
    "\n",
    "\n",
    "diabetes = pd.read_csv('../Datasets/diabetes.csv')"
   ]
  },
  {
   "cell_type": "code",
   "execution_count": 11,
   "metadata": {},
   "outputs": [
    {
     "data": {
      "text/plain": [
       "Index(['Pregnancies', 'Glucose', 'BloodPressure', 'SkinThickness', 'Insulin',\n",
       "       'BMI', 'DiabetesPedigreeFunction', 'Age', 'Outcome'],\n",
       "      dtype='object')"
      ]
     },
     "execution_count": 11,
     "metadata": {},
     "output_type": "execute_result"
    }
   ],
   "source": [
    "diabetes.columns"
   ]
  },
  {
   "cell_type": "code",
   "execution_count": 25,
   "metadata": {},
   "outputs": [],
   "source": [
    "# input data all the features expect outcome\n",
    "X = diabetes.loc[:, 'Pregnancies':'Age'] \n",
    "# output data\n",
    "y = pd.DataFrame(data=diabetes[\"Outcome\"], columns=[\"Outcome\"])\n",
    "num_features = len(X.columns)"
   ]
  },
  {
   "cell_type": "code",
   "execution_count": 20,
   "metadata": {},
   "outputs": [
    {
     "data": {
      "text/html": [
       "<div>\n",
       "<style scoped>\n",
       "    .dataframe tbody tr th:only-of-type {\n",
       "        vertical-align: middle;\n",
       "    }\n",
       "\n",
       "    .dataframe tbody tr th {\n",
       "        vertical-align: top;\n",
       "    }\n",
       "\n",
       "    .dataframe thead th {\n",
       "        text-align: right;\n",
       "    }\n",
       "</style>\n",
       "<table border=\"1\" class=\"dataframe\">\n",
       "  <thead>\n",
       "    <tr style=\"text-align: right;\">\n",
       "      <th></th>\n",
       "      <th>Pregnancies</th>\n",
       "      <th>Glucose</th>\n",
       "      <th>BloodPressure</th>\n",
       "      <th>SkinThickness</th>\n",
       "      <th>Insulin</th>\n",
       "      <th>BMI</th>\n",
       "      <th>DiabetesPedigreeFunction</th>\n",
       "      <th>Age</th>\n",
       "    </tr>\n",
       "  </thead>\n",
       "  <tbody>\n",
       "    <tr>\n",
       "      <th>0</th>\n",
       "      <td>6</td>\n",
       "      <td>148</td>\n",
       "      <td>72</td>\n",
       "      <td>35</td>\n",
       "      <td>0</td>\n",
       "      <td>33.6</td>\n",
       "      <td>0.627</td>\n",
       "      <td>50</td>\n",
       "    </tr>\n",
       "    <tr>\n",
       "      <th>1</th>\n",
       "      <td>1</td>\n",
       "      <td>85</td>\n",
       "      <td>66</td>\n",
       "      <td>29</td>\n",
       "      <td>0</td>\n",
       "      <td>26.6</td>\n",
       "      <td>0.351</td>\n",
       "      <td>31</td>\n",
       "    </tr>\n",
       "    <tr>\n",
       "      <th>2</th>\n",
       "      <td>8</td>\n",
       "      <td>183</td>\n",
       "      <td>64</td>\n",
       "      <td>0</td>\n",
       "      <td>0</td>\n",
       "      <td>23.3</td>\n",
       "      <td>0.672</td>\n",
       "      <td>32</td>\n",
       "    </tr>\n",
       "    <tr>\n",
       "      <th>3</th>\n",
       "      <td>1</td>\n",
       "      <td>89</td>\n",
       "      <td>66</td>\n",
       "      <td>23</td>\n",
       "      <td>94</td>\n",
       "      <td>28.1</td>\n",
       "      <td>0.167</td>\n",
       "      <td>21</td>\n",
       "    </tr>\n",
       "    <tr>\n",
       "      <th>4</th>\n",
       "      <td>0</td>\n",
       "      <td>137</td>\n",
       "      <td>40</td>\n",
       "      <td>35</td>\n",
       "      <td>168</td>\n",
       "      <td>43.1</td>\n",
       "      <td>2.288</td>\n",
       "      <td>33</td>\n",
       "    </tr>\n",
       "  </tbody>\n",
       "</table>\n",
       "</div>"
      ],
      "text/plain": [
       "   Pregnancies  Glucose  BloodPressure  SkinThickness  Insulin   BMI  \\\n",
       "0            6      148             72             35        0  33.6   \n",
       "1            1       85             66             29        0  26.6   \n",
       "2            8      183             64              0        0  23.3   \n",
       "3            1       89             66             23       94  28.1   \n",
       "4            0      137             40             35      168  43.1   \n",
       "\n",
       "   DiabetesPedigreeFunction  Age  \n",
       "0                     0.627   50  \n",
       "1                     0.351   31  \n",
       "2                     0.672   32  \n",
       "3                     0.167   21  \n",
       "4                     2.288   33  "
      ]
     },
     "execution_count": 20,
     "metadata": {},
     "output_type": "execute_result"
    }
   ],
   "source": [
    "X.head()"
   ]
  },
  {
   "cell_type": "code",
   "execution_count": 21,
   "metadata": {},
   "outputs": [
    {
     "data": {
      "text/html": [
       "<div>\n",
       "<style scoped>\n",
       "    .dataframe tbody tr th:only-of-type {\n",
       "        vertical-align: middle;\n",
       "    }\n",
       "\n",
       "    .dataframe tbody tr th {\n",
       "        vertical-align: top;\n",
       "    }\n",
       "\n",
       "    .dataframe thead th {\n",
       "        text-align: right;\n",
       "    }\n",
       "</style>\n",
       "<table border=\"1\" class=\"dataframe\">\n",
       "  <thead>\n",
       "    <tr style=\"text-align: right;\">\n",
       "      <th></th>\n",
       "      <th>Outcome</th>\n",
       "    </tr>\n",
       "  </thead>\n",
       "  <tbody>\n",
       "    <tr>\n",
       "      <th>0</th>\n",
       "      <td>1</td>\n",
       "    </tr>\n",
       "    <tr>\n",
       "      <th>1</th>\n",
       "      <td>0</td>\n",
       "    </tr>\n",
       "    <tr>\n",
       "      <th>2</th>\n",
       "      <td>1</td>\n",
       "    </tr>\n",
       "    <tr>\n",
       "      <th>3</th>\n",
       "      <td>0</td>\n",
       "    </tr>\n",
       "    <tr>\n",
       "      <th>4</th>\n",
       "      <td>1</td>\n",
       "    </tr>\n",
       "  </tbody>\n",
       "</table>\n",
       "</div>"
      ],
      "text/plain": [
       "   Outcome\n",
       "0        1\n",
       "1        0\n",
       "2        1\n",
       "3        0\n",
       "4        1"
      ]
     },
     "execution_count": 21,
     "metadata": {},
     "output_type": "execute_result"
    }
   ],
   "source": [
    "y.head()"
   ]
  },
  {
   "cell_type": "markdown",
   "metadata": {},
   "source": [
    "# Train test split"
   ]
  },
  {
   "cell_type": "code",
   "execution_count": 22,
   "metadata": {},
   "outputs": [],
   "source": [
    "X_train, X_test, y_train, y_test = train_test_split(X, y, test_size = 0.25, random_state = 0)"
   ]
  },
  {
   "cell_type": "markdown",
   "metadata": {},
   "source": [
    "# Scaling the data"
   ]
  },
  {
   "cell_type": "code",
   "execution_count": 23,
   "metadata": {},
   "outputs": [
    {
     "name": "stderr",
     "output_type": "stream",
     "text": [
      "/anaconda3/lib/python3.7/site-packages/sklearn/preprocessing/data.py:625: DataConversionWarning: Data with input dtype int64, float64 were all converted to float64 by StandardScaler.\n",
      "  return self.partial_fit(X, y)\n",
      "/anaconda3/lib/python3.7/site-packages/sklearn/base.py:462: DataConversionWarning: Data with input dtype int64, float64 were all converted to float64 by StandardScaler.\n",
      "  return self.fit(X, **fit_params).transform(X)\n",
      "/anaconda3/lib/python3.7/site-packages/ipykernel_launcher.py:4: DataConversionWarning: Data with input dtype int64, float64 were all converted to float64 by StandardScaler.\n",
      "  after removing the cwd from sys.path.\n",
      "/anaconda3/lib/python3.7/site-packages/ipykernel_launcher.py:5: DataConversionWarning: Data with input dtype int64, float64 were all converted to float64 by StandardScaler.\n",
      "  \"\"\"\n"
     ]
    }
   ],
   "source": [
    "from sklearn.preprocessing import StandardScaler\n",
    "scaler = StandardScaler()\n",
    "X = scaler.fit_transform(X)\n",
    "X_test = scaler.transform(X_test)\n",
    "X_train = scaler.transform(X_train)"
   ]
  },
  {
   "cell_type": "markdown",
   "metadata": {},
   "source": [
    "# Initialize, add layers, and compile the model\n",
    "---"
   ]
  },
  {
   "cell_type": "code",
   "execution_count": 27,
   "metadata": {},
   "outputs": [],
   "source": [
    "model = Sequential()\n",
    "\n",
    "# input layer\n",
    "# units is the number of nodes in hidden layer\n",
    "# input dimension is the number of features and define them once in the input layer\n",
    "model.add(Dense(activation=\"sigmoid\", input_dim=num_features, units=1, kernel_initializer=\"uniform\"))\n",
    "\n",
    "# Compile our ANN with , binary_crossentropy error metric, and we are optimizing for accuracy\n",
    "model.compile(optimizer='adam', loss='binary_crossentropy', metrics=['accuracy'])"
   ]
  },
  {
   "cell_type": "code",
   "execution_count": 28,
   "metadata": {},
   "outputs": [
    {
     "name": "stdout",
     "output_type": "stream",
     "text": [
      "Epoch 1/100\n",
      "576/576 [==============================] - 1s 1ms/step - loss: 0.6407 - acc: 0.7118\n",
      "Epoch 2/100\n",
      "576/576 [==============================] - 1s 1ms/step - loss: 0.5740 - acc: 0.7431\n",
      "Epoch 3/100\n",
      "576/576 [==============================] - 1s 963us/step - loss: 0.5405 - acc: 0.7569 0s - loss: 0.5412 - acc: 0.755\n",
      "Epoch 4/100\n",
      "576/576 [==============================] - 1s 918us/step - loss: 0.5216 - acc: 0.7691\n",
      "Epoch 5/100\n",
      "576/576 [==============================] - 1s 1ms/step - loss: 0.5103 - acc: 0.7656\n",
      "Epoch 6/100\n",
      "576/576 [==============================] - 1s 1ms/step - loss: 0.5024 - acc: 0.7691\n",
      "Epoch 7/100\n",
      "576/576 [==============================] - 1s 1ms/step - loss: 0.4975 - acc: 0.7708\n",
      "Epoch 8/100\n",
      "576/576 [==============================] - 1s 1ms/step - loss: 0.4940 - acc: 0.7622\n",
      "Epoch 9/100\n",
      "576/576 [==============================] - 1s 2ms/step - loss: 0.4914 - acc: 0.7691\n",
      "Epoch 10/100\n",
      "576/576 [==============================] - 1s 1ms/step - loss: 0.4896 - acc: 0.7674\n",
      "Epoch 11/100\n",
      "576/576 [==============================] - 1s 1ms/step - loss: 0.4881 - acc: 0.7622\n",
      "Epoch 12/100\n",
      "576/576 [==============================] - 1s 950us/step - loss: 0.4872 - acc: 0.7656\n",
      "Epoch 13/100\n",
      "576/576 [==============================] - 1s 911us/step - loss: 0.4867 - acc: 0.7622\n",
      "Epoch 14/100\n",
      "576/576 [==============================] - 1s 1ms/step - loss: 0.4861 - acc: 0.7639\n",
      "Epoch 15/100\n",
      "576/576 [==============================] - 1s 2ms/step - loss: 0.4855 - acc: 0.7656\n",
      "Epoch 16/100\n",
      "576/576 [==============================] - 1s 1ms/step - loss: 0.4851 - acc: 0.7639\n",
      "Epoch 17/100\n",
      "576/576 [==============================] - 1s 1000us/step - loss: 0.4851 - acc: 0.7639\n",
      "Epoch 18/100\n",
      "576/576 [==============================] - 1s 1ms/step - loss: 0.4849 - acc: 0.7674\n",
      "Epoch 19/100\n",
      "576/576 [==============================] - 1s 980us/step - loss: 0.4849 - acc: 0.7622\n",
      "Epoch 20/100\n",
      "576/576 [==============================] - 1s 1ms/step - loss: 0.4846 - acc: 0.7639\n",
      "Epoch 21/100\n",
      "576/576 [==============================] - 1s 1ms/step - loss: 0.4848 - acc: 0.7604\n",
      "Epoch 22/100\n",
      "576/576 [==============================] - 1s 1ms/step - loss: 0.4843 - acc: 0.7587\n",
      "Epoch 23/100\n",
      "576/576 [==============================] - 1s 1ms/step - loss: 0.4843 - acc: 0.7639\n",
      "Epoch 24/100\n",
      "576/576 [==============================] - 1s 1ms/step - loss: 0.4844 - acc: 0.7656\n",
      "Epoch 25/100\n",
      "576/576 [==============================] - 1s 1ms/step - loss: 0.4844 - acc: 0.7639\n",
      "Epoch 26/100\n",
      "576/576 [==============================] - 1s 1ms/step - loss: 0.4843 - acc: 0.7639\n",
      "Epoch 27/100\n",
      "576/576 [==============================] - 1s 988us/step - loss: 0.4842 - acc: 0.7691\n",
      "Epoch 28/100\n",
      "576/576 [==============================] - 1s 998us/step - loss: 0.4842 - acc: 0.7639\n",
      "Epoch 29/100\n",
      "576/576 [==============================] - 1s 1ms/step - loss: 0.4843 - acc: 0.7674\n",
      "Epoch 30/100\n",
      "576/576 [==============================] - 1s 1ms/step - loss: 0.4844 - acc: 0.7622\n",
      "Epoch 31/100\n",
      "576/576 [==============================] - 1s 1ms/step - loss: 0.4843 - acc: 0.7639\n",
      "Epoch 32/100\n",
      "576/576 [==============================] - 1s 1ms/step - loss: 0.4843 - acc: 0.7622\n",
      "Epoch 33/100\n",
      "576/576 [==============================] - 1s 1ms/step - loss: 0.4844 - acc: 0.7569\n",
      "Epoch 34/100\n",
      "576/576 [==============================] - 1s 1ms/step - loss: 0.4843 - acc: 0.7656\n",
      "Epoch 35/100\n",
      "576/576 [==============================] - 1s 2ms/step - loss: 0.4843 - acc: 0.7656\n",
      "Epoch 36/100\n",
      "576/576 [==============================] - 1s 2ms/step - loss: 0.4843 - acc: 0.7622\n",
      "Epoch 37/100\n",
      "576/576 [==============================] - 1s 1ms/step - loss: 0.4844 - acc: 0.7639\n",
      "Epoch 38/100\n",
      "576/576 [==============================] - 1s 928us/step - loss: 0.4841 - acc: 0.7639\n",
      "Epoch 39/100\n",
      "576/576 [==============================] - 0s 829us/step - loss: 0.4843 - acc: 0.7639\n",
      "Epoch 40/100\n",
      "576/576 [==============================] - 0s 829us/step - loss: 0.4840 - acc: 0.7639\n",
      "Epoch 41/100\n",
      "576/576 [==============================] - 0s 824us/step - loss: 0.4840 - acc: 0.7674\n",
      "Epoch 42/100\n",
      "576/576 [==============================] - 0s 817us/step - loss: 0.4842 - acc: 0.7639\n",
      "Epoch 43/100\n",
      "576/576 [==============================] - 0s 824us/step - loss: 0.4843 - acc: 0.7604\n",
      "Epoch 44/100\n",
      "576/576 [==============================] - 0s 811us/step - loss: 0.4842 - acc: 0.7622\n",
      "Epoch 45/100\n",
      "576/576 [==============================] - 0s 808us/step - loss: 0.4840 - acc: 0.7656\n",
      "Epoch 46/100\n",
      "576/576 [==============================] - 0s 817us/step - loss: 0.4841 - acc: 0.7691\n",
      "Epoch 47/100\n",
      "576/576 [==============================] - 1s 960us/step - loss: 0.4844 - acc: 0.7691\n",
      "Epoch 48/100\n",
      "576/576 [==============================] - 1s 2ms/step - loss: 0.4843 - acc: 0.7674\n",
      "Epoch 49/100\n",
      "576/576 [==============================] - 1s 994us/step - loss: 0.4842 - acc: 0.7622\n",
      "Epoch 50/100\n",
      "576/576 [==============================] - 1s 1ms/step - loss: 0.4842 - acc: 0.7656\n",
      "Epoch 51/100\n",
      "576/576 [==============================] - 1s 1ms/step - loss: 0.4841 - acc: 0.7656\n",
      "Epoch 52/100\n",
      "576/576 [==============================] - 1s 2ms/step - loss: 0.4841 - acc: 0.7691\n",
      "Epoch 53/100\n",
      "576/576 [==============================] - 1s 2ms/step - loss: 0.4844 - acc: 0.7674\n",
      "Epoch 54/100\n",
      "576/576 [==============================] - 1s 1ms/step - loss: 0.4842 - acc: 0.7656\n",
      "Epoch 55/100\n",
      "576/576 [==============================] - 1s 1ms/step - loss: 0.4843 - acc: 0.7639\n",
      "Epoch 56/100\n",
      "576/576 [==============================] - 1s 2ms/step - loss: 0.4841 - acc: 0.7622\n",
      "Epoch 57/100\n",
      "576/576 [==============================] - 1s 2ms/step - loss: 0.4842 - acc: 0.7656\n",
      "Epoch 58/100\n",
      "576/576 [==============================] - 1s 1ms/step - loss: 0.4843 - acc: 0.7656\n",
      "Epoch 59/100\n",
      "576/576 [==============================] - 1s 984us/step - loss: 0.4843 - acc: 0.7639\n",
      "Epoch 60/100\n",
      "576/576 [==============================] - 1s 934us/step - loss: 0.4842 - acc: 0.7674\n",
      "Epoch 61/100\n",
      "576/576 [==============================] - 1s 980us/step - loss: 0.4844 - acc: 0.7587\n",
      "Epoch 62/100\n",
      "576/576 [==============================] - 1s 977us/step - loss: 0.4842 - acc: 0.7639\n",
      "Epoch 63/100\n",
      "576/576 [==============================] - 1s 1ms/step - loss: 0.4842 - acc: 0.7622\n",
      "Epoch 64/100\n",
      "576/576 [==============================] - 1s 990us/step - loss: 0.4844 - acc: 0.7639\n",
      "Epoch 65/100\n",
      "576/576 [==============================] - 1s 1ms/step - loss: 0.4843 - acc: 0.7622\n",
      "Epoch 66/100\n",
      "576/576 [==============================] - 1s 1ms/step - loss: 0.4841 - acc: 0.7656\n",
      "Epoch 67/100\n",
      "576/576 [==============================] - 1s 1ms/step - loss: 0.4843 - acc: 0.7622\n",
      "Epoch 68/100\n",
      "576/576 [==============================] - 1s 1ms/step - loss: 0.4841 - acc: 0.7656\n",
      "Epoch 69/100\n",
      "576/576 [==============================] - 1s 1ms/step - loss: 0.4842 - acc: 0.7674\n",
      "Epoch 70/100\n",
      "576/576 [==============================] - 1s 1ms/step - loss: 0.4841 - acc: 0.7622\n",
      "Epoch 71/100\n",
      "576/576 [==============================] - 1s 1ms/step - loss: 0.4843 - acc: 0.7622\n",
      "Epoch 72/100\n",
      "576/576 [==============================] - 1s 1ms/step - loss: 0.4841 - acc: 0.7656\n",
      "Epoch 73/100\n",
      "576/576 [==============================] - 1s 1ms/step - loss: 0.4842 - acc: 0.7639\n",
      "Epoch 74/100\n",
      "576/576 [==============================] - 1s 1ms/step - loss: 0.4842 - acc: 0.7656\n",
      "Epoch 75/100\n",
      "576/576 [==============================] - 1s 2ms/step - loss: 0.4842 - acc: 0.7622\n",
      "Epoch 76/100\n",
      "576/576 [==============================] - 1s 2ms/step - loss: 0.4843 - acc: 0.7691\n",
      "Epoch 77/100\n",
      "576/576 [==============================] - 1s 1ms/step - loss: 0.4842 - acc: 0.7656\n",
      "Epoch 78/100\n",
      "576/576 [==============================] - 1s 2ms/step - loss: 0.4844 - acc: 0.7656\n",
      "Epoch 79/100\n",
      "576/576 [==============================] - 1s 1ms/step - loss: 0.4844 - acc: 0.7691\n",
      "Epoch 80/100\n",
      "576/576 [==============================] - 1s 2ms/step - loss: 0.4843 - acc: 0.7656A: 0s - loss: 0.5193 \n",
      "Epoch 81/100\n",
      "576/576 [==============================] - 1s 1ms/step - loss: 0.4843 - acc: 0.7674\n",
      "Epoch 82/100\n",
      "576/576 [==============================] - 1s 1ms/step - loss: 0.4842 - acc: 0.7656\n",
      "Epoch 83/100\n",
      "576/576 [==============================] - 1s 1ms/step - loss: 0.4843 - acc: 0.7656\n",
      "Epoch 84/100\n"
     ]
    },
    {
     "name": "stdout",
     "output_type": "stream",
     "text": [
      "576/576 [==============================] - 1s 1ms/step - loss: 0.4841 - acc: 0.7656\n",
      "Epoch 85/100\n",
      "576/576 [==============================] - 1s 1ms/step - loss: 0.4842 - acc: 0.7639\n",
      "Epoch 86/100\n",
      "576/576 [==============================] - 1s 1ms/step - loss: 0.4843 - acc: 0.7639\n",
      "Epoch 87/100\n",
      "576/576 [==============================] - 1s 1ms/step - loss: 0.4842 - acc: 0.7674\n",
      "Epoch 88/100\n",
      "576/576 [==============================] - 1s 1ms/step - loss: 0.4842 - acc: 0.7656\n",
      "Epoch 89/100\n",
      "576/576 [==============================] - 1s 1ms/step - loss: 0.4843 - acc: 0.7674\n",
      "Epoch 90/100\n",
      "576/576 [==============================] - 1s 1ms/step - loss: 0.4844 - acc: 0.7656\n",
      "Epoch 91/100\n",
      "576/576 [==============================] - 1s 1ms/step - loss: 0.4844 - acc: 0.7674\n",
      "Epoch 92/100\n",
      "576/576 [==============================] - 1s 1ms/step - loss: 0.4843 - acc: 0.7674\n",
      "Epoch 93/100\n",
      "576/576 [==============================] - 1s 1ms/step - loss: 0.4841 - acc: 0.7674\n",
      "Epoch 94/100\n",
      "576/576 [==============================] - 1s 1ms/step - loss: 0.4842 - acc: 0.7674\n",
      "Epoch 95/100\n",
      "576/576 [==============================] - 1s 1ms/step - loss: 0.4844 - acc: 0.7622\n",
      "Epoch 96/100\n",
      "576/576 [==============================] - 1s 1ms/step - loss: 0.4843 - acc: 0.7639\n",
      "Epoch 97/100\n",
      "576/576 [==============================] - 1s 1ms/step - loss: 0.4844 - acc: 0.7656\n",
      "Epoch 98/100\n",
      "576/576 [==============================] - 1s 1ms/step - loss: 0.4840 - acc: 0.7656\n",
      "Epoch 99/100\n",
      "576/576 [==============================] - 1s 1ms/step - loss: 0.4841 - acc: 0.7622\n",
      "Epoch 100/100\n",
      "576/576 [==============================] - 1s 1ms/step - loss: 0.4842 - acc: 0.7674\n"
     ]
    },
    {
     "data": {
      "text/plain": [
       "<keras.callbacks.History at 0x1a3090d2e8>"
      ]
     },
     "execution_count": 28,
     "metadata": {},
     "output_type": "execute_result"
    }
   ],
   "source": [
    "# Fit the model with batch size 1 and epochs=100\n",
    "model.fit(X_train, y_train, batch_size=1, epochs=100)"
   ]
  },
  {
   "cell_type": "markdown",
   "metadata": {},
   "source": [
    "## Predicting the result"
   ]
  },
  {
   "cell_type": "code",
   "execution_count": 34,
   "metadata": {},
   "outputs": [
    {
     "ename": "AttributeError",
     "evalue": "'numpy.ndarray' object has no attribute 'values'",
     "output_type": "error",
     "traceback": [
      "\u001b[0;31m---------------------------------------------------------------------------\u001b[0m",
      "\u001b[0;31mAttributeError\u001b[0m                            Traceback (most recent call last)",
      "\u001b[0;32m<ipython-input-34-f597b6b59a77>\u001b[0m in \u001b[0;36m<module>\u001b[0;34m\u001b[0m\n\u001b[0;32m----> 1\u001b[0;31m \u001b[0my_pred\u001b[0m \u001b[0;34m=\u001b[0m \u001b[0mmodel\u001b[0m\u001b[0;34m.\u001b[0m\u001b[0mpredict\u001b[0m\u001b[0;34m(\u001b[0m\u001b[0mX_test\u001b[0m\u001b[0;34m.\u001b[0m\u001b[0mvalues\u001b[0m\u001b[0;34m.\u001b[0m\u001b[0mT\u001b[0m\u001b[0;34m)\u001b[0m\u001b[0;34m\u001b[0m\u001b[0;34m\u001b[0m\u001b[0m\n\u001b[0m",
      "\u001b[0;31mAttributeError\u001b[0m: 'numpy.ndarray' object has no attribute 'values'"
     ]
    }
   ],
   "source": [
    "y_pred = model.predict(X_test)"
   ]
  },
  {
   "cell_type": "code",
   "execution_count": 35,
   "metadata": {},
   "outputs": [],
   "source": [
    "y_pred = (y_pred > 0.5)"
   ]
  },
  {
   "cell_type": "markdown",
   "metadata": {},
   "source": [
    "# Confusion metrics"
   ]
  },
  {
   "cell_type": "code",
   "execution_count": 37,
   "metadata": {},
   "outputs": [
    {
     "data": {
      "text/plain": [
       "array([[117,  13],\n",
       "       [ 26,  36]])"
      ]
     },
     "execution_count": 37,
     "metadata": {},
     "output_type": "execute_result"
    }
   ],
   "source": [
    "# Making the Confusion Matrix\n",
    "# how to make y_pred with binary representaion\n",
    "ann_conf_met = confusion_matrix(y_test, y_pred)\n",
    "ann_conf_met"
   ]
  },
  {
   "cell_type": "markdown",
   "metadata": {},
   "source": [
    "## Logistic Regression with ML sklearn\n",
    "---"
   ]
  },
  {
   "cell_type": "code",
   "execution_count": 38,
   "metadata": {},
   "outputs": [
    {
     "name": "stderr",
     "output_type": "stream",
     "text": [
      "/anaconda3/lib/python3.7/site-packages/sklearn/utils/validation.py:761: DataConversionWarning: A column-vector y was passed when a 1d array was expected. Please change the shape of y to (n_samples, ), for example using ravel().\n",
      "  y = column_or_1d(y, warn=True)\n"
     ]
    }
   ],
   "source": [
    "log_reg = LogisticRegression(random_state=0, solver='liblinear', multi_class='ovr').fit(X_train, y_train)"
   ]
  },
  {
   "cell_type": "code",
   "execution_count": 43,
   "metadata": {},
   "outputs": [],
   "source": [
    "log_pred = log_reg.predict(X_test)"
   ]
  },
  {
   "cell_type": "code",
   "execution_count": 42,
   "metadata": {},
   "outputs": [
    {
     "data": {
      "text/plain": [
       "array([[117,  13],\n",
       "       [ 26,  36]])"
      ]
     },
     "execution_count": 42,
     "metadata": {},
     "output_type": "execute_result"
    }
   ],
   "source": [
    "sklearn_conf_met = confusion_matrix(y_test, y_pred)\n",
    "sklearn_conf_met"
   ]
  },
  {
   "cell_type": "code",
   "execution_count": null,
   "metadata": {},
   "outputs": [],
   "source": []
  }
 ],
 "metadata": {
  "kernelspec": {
   "display_name": "Python 3",
   "language": "python",
   "name": "python3"
  },
  "language_info": {
   "codemirror_mode": {
    "name": "ipython",
    "version": 3
   },
   "file_extension": ".py",
   "mimetype": "text/x-python",
   "name": "python",
   "nbconvert_exporter": "python",
   "pygments_lexer": "ipython3",
   "version": "3.7.1"
  }
 },
 "nbformat": 4,
 "nbformat_minor": 2
}
