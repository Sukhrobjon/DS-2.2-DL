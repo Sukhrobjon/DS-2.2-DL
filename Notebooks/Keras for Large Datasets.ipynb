{
 "cells": [
  {
   "cell_type": "markdown",
   "metadata": {},
   "source": [
    "# Keras for Large Datasets \n",
    "---\n",
    "- generator\n",
    "- if we have a huge dataset to use lstm we can split them into smaller chunks"
   ]
  },
  {
   "cell_type": "markdown",
   "metadata": {},
   "source": [
    "### Learning Objectives\n",
    "- Learn how to handle datasets that will not fit into memory and use them for Keras training\n",
    "- What is fit generator and predict generator\n",
    "- What is Transfer Learning\n",
    "\n",
    "## Train a deep learning model on a large dataset\n",
    "\n",
    "- In Keras, using `fit()` and `predict()` is fine for smaller datasets which can be loaded into memory\n",
    "\n",
    "- But in practice, for most practical-use cases, almost all datasets are large and cannot be loaded into memory at once"
   ]
  },
  {
   "cell_type": "code",
   "execution_count": 4,
   "metadata": {},
   "outputs": [
    {
     "ename": "NameError",
     "evalue": "name 'model' is not defined",
     "output_type": "error",
     "traceback": [
      "\u001b[0;31m---------------------------------------------------------------------------\u001b[0m",
      "\u001b[0;31mNameError\u001b[0m                                 Traceback (most recent call last)",
      "\u001b[0;32m<ipython-input-4-bea8f3938827>\u001b[0m in \u001b[0;36m<module>\u001b[0;34m\u001b[0m\n\u001b[1;32m     21\u001b[0m             \u001b[0;32myield\u001b[0m \u001b[0;34m(\u001b[0m\u001b[0mx_batch\u001b[0m\u001b[0;34m,\u001b[0m \u001b[0my_batch\u001b[0m\u001b[0;34m)\u001b[0m\u001b[0;34m\u001b[0m\u001b[0;34m\u001b[0m\u001b[0m\n\u001b[1;32m     22\u001b[0m \u001b[0;34m\u001b[0m\u001b[0m\n\u001b[0;32m---> 23\u001b[0;31m model.fit_generator(generator=batch_generator(df_train,\n\u001b[0m\u001b[1;32m     24\u001b[0m                                               \u001b[0mbatch_size\u001b[0m\u001b[0;34m=\u001b[0m\u001b[0mbatch_size\u001b[0m\u001b[0;34m,\u001b[0m\u001b[0;34m\u001b[0m\u001b[0;34m\u001b[0m\u001b[0m\n\u001b[1;32m     25\u001b[0m                                               \u001b[0mpath_tiles\u001b[0m\u001b[0;34m=\u001b[0m\u001b[0mpath_tiles\u001b[0m\u001b[0;34m,\u001b[0m\u001b[0;34m\u001b[0m\u001b[0;34m\u001b[0m\u001b[0m\n",
      "\u001b[0;31mNameError\u001b[0m: name 'model' is not defined"
     ]
    }
   ],
   "source": [
    "def batch_generator(df, batch_size, path_tiles, num_classes):\n",
    "    \"\"\"\n",
    "        This generator use a pandas DataFrame to read images (df.tile_name) from disk.\n",
    "    \"\"\"\n",
    "    N = df.shape[0]\n",
    "    while True:\n",
    "        for start in range(0, N, batch_size):\n",
    "            x_batch = []\n",
    "            y_batch = []\n",
    "            end = min(start + batch_size, N)\n",
    "            df_tmp = df[start:end]\n",
    "            ids_batch = df_tmp.tile_name\n",
    "            for id in ids_batch:\n",
    "                img = cv2.imread(path_tiles+'/{}'.format(id))\n",
    "                # [0] since duplicated names\n",
    "                labelname=df_tmp['y'][df_tmp.tile_name == id].values[0]  \n",
    "                labelname=np.asscalar(labelname)\n",
    "                x_batch.append(img)\n",
    "                y_batch.append(labelname)\n",
    "            x_batch = np.array(x_batch, np.float32) / 255\n",
    "            y_batch = utils.np_utils.to_categorical(y_batch, num_classes)\n",
    "            yield (x_batch, y_batch)\n",
    "\n",
    "model.fit_generator(generator=batch_generator(df_train,\n",
    "                                              batch_size=batch_size,\n",
    "                                              path_tiles=path_tiles,\n",
    "                                              num_classes=num_classes),\n",
    "                    steps_per_epoch=len(df_train) // batch_size,\n",
    "                    epochs=epochs)"
   ]
  },
  {
   "cell_type": "markdown",
   "metadata": {},
   "source": [
    "then instead of `model.fit()` we will use `model.fit_generator(generator=batch_generator(df_train, ...))`"
   ]
  },
  {
   "cell_type": "code",
   "execution_count": null,
   "metadata": {},
   "outputs": [],
   "source": []
  },
  {
   "cell_type": "code",
   "execution_count": null,
   "metadata": {},
   "outputs": [],
   "source": []
  },
  {
   "cell_type": "code",
   "execution_count": null,
   "metadata": {},
   "outputs": [],
   "source": []
  },
  {
   "cell_type": "code",
   "execution_count": 2,
   "metadata": {},
   "outputs": [],
   "source": [
    "import numpy as np\n",
    "\n",
    "\n",
    "def data_gen(df, batch_size):\n",
    "    while True:\n",
    "        x_batch = np.zeros((batch_size, 3, 224, 224))\n",
    "        y_batch = np.zeros((batch_size, 1))\n",
    "        for j in range(len(df['url']/batch_size)):\n",
    "            b = 0\n",
    "            for m, k in zip(df['url'].values[j*batch_size:(j+1)*batch_size], \n",
    "                            df['class'].values[j*batch_size:(j+1)*batch_size]):\n",
    "                x_batch[b] = m\n",
    "                y_batch[b] = k\n",
    "                b += 1\n",
    "            yield (x_batch, y_batch)\n",
    "\n",
    "\n",
    "# model.fit_generator(generator=data_gen(df_train, batch_size=batch_size), \n",
    "#                     steps_per_epoch=len(df_train) // batch_size, epochs=epochs)"
   ]
  },
  {
   "cell_type": "markdown",
   "metadata": {},
   "source": [
    "## Data Augmentation\n",
    "\n",
    "- One of the best ways to improve the performance of a Deep Learning model is to add more data to the training set\n",
    "\n",
    "- want the dataset to be representative of the many different positions, angles, lightings, and miscellaneous distortions\n",
    "\n",
    "- In keras there are two ways:\n",
    "\n",
    "    - Use `ImageDataGenerator`\n",
    "    - Write our custom code"
   ]
  },
  {
   "cell_type": "code",
   "execution_count": null,
   "metadata": {},
   "outputs": [],
   "source": []
  }
 ],
 "metadata": {
  "kernelspec": {
   "display_name": "Python 3",
   "language": "python",
   "name": "python3"
  },
  "language_info": {
   "codemirror_mode": {
    "name": "ipython",
    "version": 3
   },
   "file_extension": ".py",
   "mimetype": "text/x-python",
   "name": "python",
   "nbconvert_exporter": "python",
   "pygments_lexer": "ipython3",
   "version": "3.7.1"
  }
 },
 "nbformat": 4,
 "nbformat_minor": 2
}
