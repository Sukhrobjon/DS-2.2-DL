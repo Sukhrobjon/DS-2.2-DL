{
 "cells": [
  {
   "cell_type": "markdown",
   "metadata": {},
   "source": [
    "# Keras for Large Datasets \n",
    "---\n",
    "- generator\n",
    "- if we have a huge dataset to use lstm we can split them into smaller chunks"
   ]
  },
  {
   "cell_type": "code",
   "execution_count": 1,
   "metadata": {},
   "outputs": [
    {
     "ename": "NameError",
     "evalue": "name 'model' is not defined",
     "output_type": "error",
     "traceback": [
      "\u001b[0;31m---------------------------------------------------------------------------\u001b[0m",
      "\u001b[0;31mNameError\u001b[0m                                 Traceback (most recent call last)",
      "\u001b[0;32m<ipython-input-1-3a7ed480ed93>\u001b[0m in \u001b[0;36m<module>\u001b[0;34m\u001b[0m\n\u001b[1;32m     16\u001b[0m \u001b[0;34m\u001b[0m\u001b[0m\n\u001b[1;32m     17\u001b[0m \u001b[0;34m\u001b[0m\u001b[0m\n\u001b[0;32m---> 18\u001b[0;31m model.fit_generator(generator=data_gen(df_train, batch_size=batch_size), \n\u001b[0m\u001b[1;32m     19\u001b[0m                     steps_per_epoch=len(df_train) // batch_size, epochs=epochs)\n",
      "\u001b[0;31mNameError\u001b[0m: name 'model' is not defined"
     ]
    }
   ],
   "source": [
    "import numpy as np\n",
    "\n",
    "\n",
    "def data_gen(df, batch_size):\n",
    "    while True:\n",
    "        x_batch = np.zeros((batch_size, 3, 224, 224))\n",
    "        y_batch = np.zeros((batch_size, 1))\n",
    "        for j in range(len(df['url']/batch_size)):\n",
    "            b = 0\n",
    "            for m, k in zip(df['url'].values[j*batch_size:(j+1)*batch_size], \n",
    "                            df['class'].values[j*batch_size:(j+1)*batch_size]):\n",
    "                x_batch[b] = m\n",
    "                y_batch[b] = k\n",
    "                b += 1\n",
    "            yield (x_batch, y_batch)\n",
    "\n",
    "\n",
    "model.fit_generator(generator=data_gen(df_train, batch_size=batch_size), \n",
    "                    steps_per_epoch=len(df_train) // batch_size, epochs=epochs)"
   ]
  },
  {
   "cell_type": "code",
   "execution_count": null,
   "metadata": {},
   "outputs": [],
   "source": []
  }
 ],
 "metadata": {
  "kernelspec": {
   "display_name": "Python 3",
   "language": "python",
   "name": "python3"
  },
  "language_info": {
   "codemirror_mode": {
    "name": "ipython",
    "version": 3
   },
   "file_extension": ".py",
   "mimetype": "text/x-python",
   "name": "python",
   "nbconvert_exporter": "python",
   "pygments_lexer": "ipython3",
   "version": "3.7.1"
  }
 },
 "nbformat": 4,
 "nbformat_minor": 2
}
