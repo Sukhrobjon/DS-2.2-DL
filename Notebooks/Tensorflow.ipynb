{
 "cells": [
  {
   "cell_type": "markdown",
   "metadata": {},
   "source": [
    "## Learning Objectives\n",
    "- What is Tensorflow\n",
    "\n",
    "\n",
    "## What is Tensorflow?\n",
    "\n",
    "TensorFlow is an open source software library for numerical computation using data flow graphs\n",
    "\n",
    "TensorFlow programs are usually structured into a construction phase, that assembles a graph, and an execution phase that uses a session to execute ops in the graph\n"
   ]
  },
  {
   "cell_type": "markdown",
   "metadata": {},
   "source": [
    "A TF program often has 2 phases:\n",
    "\n",
    "- Assemble a graph\n",
    "- Use a session to execute operations in the graph\n",
    "---\n",
    "\n",
    "## Type of Tensor in Tensorflow\n",
    "\n",
    "The main types of tensors (in TF) are:\n",
    "\n",
    "- tf.Variable / tf.get_variable\n",
    "\n",
    "- tf.constant\n",
    "\n",
    "- tf.placeholder"
   ]
  },
  {
   "cell_type": "markdown",
   "metadata": {},
   "source": [
    "## Basic Code Structure - Graphs\n",
    "\n",
    "- Constants are fixed value tensors - not trainable\n",
    "\n",
    "- Variables are tensors initialized in a session - trainable\n",
    "\n",
    "- Placeholders are tensors of values that are unknown during the graph\n",
    "construction, but passed as input during a session\n",
    "\n",
    "- Ops are functions on tensors"
   ]
  },
  {
   "cell_type": "markdown",
   "metadata": {},
   "source": [
    "## Activity: first construct a multiplication and then execute it in Tensorflow\n",
    "---"
   ]
  },
  {
   "cell_type": "code",
   "execution_count": 4,
   "metadata": {},
   "outputs": [
    {
     "name": "stdout",
     "output_type": "stream",
     "text": [
      "Output:  Tensor(\"Mul_3:0\", dtype=float32)\n",
      "[14.  6.]\n"
     ]
    }
   ],
   "source": [
    "import tensorflow as tf\n",
    "\n",
    "\n",
    "# first we want to build the graph architecture \n",
    "# and pass the data into placeholders\n",
    "\n",
    "input1 = tf.placeholder(tf.float32)\n",
    "input2 = tf.placeholder(tf.float32)\n",
    "output = tf.multiply(input1, input2)\n",
    "print(\"Output: \", output)\n",
    "with tf.Session() as sess:\n",
    "    print(sess.run(output, feed_dict={input1: [7., 2.], input2: [2., 3]}))"
   ]
  },
  {
   "cell_type": "code",
   "execution_count": 7,
   "metadata": {},
   "outputs": [
    {
     "name": "stdout",
     "output_type": "stream",
     "text": [
      "[21.0, 7.0]\n",
      "Type of result:  <class 'list'>\n"
     ]
    }
   ],
   "source": [
    "input1 = tf.constant(3.0)\n",
    "input2 = tf.constant(2.0)\n",
    "input3 = tf.constant(5.0)\n",
    "addition = tf.add(input2, input3)\n",
    "mul = tf.multiply(input1, addition)\n",
    "\n",
    "with tf.Session() as sess:\n",
    "    result = sess.run([mul, addition])\n",
    "    print(result)\n",
    "    print(\"Type of result: \", type(result))"
   ]
  },
  {
   "cell_type": "code",
   "execution_count": 9,
   "metadata": {},
   "outputs": [
    {
     "name": "stdout",
     "output_type": "stream",
     "text": [
      "[54, 24]\n"
     ]
    }
   ],
   "source": [
    "# While loop in tensorflow\n",
    "                            # condition if x is less 30 and do  \n",
    "a, b = tf.while_loop(lambda x, y: x < 30, lambda x, y: (x * 3, y * 2), [2, 3])\n",
    "\n",
    "with tf.Session() as sess:\n",
    "    print(sess.run([a, b]))"
   ]
  },
  {
   "cell_type": "code",
   "execution_count": 10,
   "metadata": {},
   "outputs": [
    {
     "name": "stdout",
     "output_type": "stream",
     "text": [
      "[5, 5]\n"
     ]
    }
   ],
   "source": [
    "# \n",
    "def cond(t1, t2):\n",
    "    return tf.less(t1, t2)\n",
    "\n",
    "def body(t1, t2):\n",
    "    return [tf.add(t1, 1), t2]\n",
    "\n",
    "t1 = tf.constant(1)\n",
    "t2 = tf.constant(5)\n",
    "\n",
    "res = tf.while_loop(cond, body, [t1, t2])\n",
    "\n",
    "with tf.Session() as sess:\n",
    "    print(sess.run(res))"
   ]
  },
  {
   "cell_type": "code",
   "execution_count": null,
   "metadata": {},
   "outputs": [],
   "source": []
  }
 ],
 "metadata": {
  "kernelspec": {
   "display_name": "Python 3",
   "language": "python",
   "name": "python3"
  },
  "language_info": {
   "codemirror_mode": {
    "name": "ipython",
    "version": 3
   },
   "file_extension": ".py",
   "mimetype": "text/x-python",
   "name": "python",
   "nbconvert_exporter": "python",
   "pygments_lexer": "ipython3",
   "version": "3.7.1"
  }
 },
 "nbformat": 4,
 "nbformat_minor": 2
}
