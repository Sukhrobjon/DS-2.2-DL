{
 "cells": [
  {
   "cell_type": "code",
   "execution_count": 1,
   "metadata": {},
   "outputs": [],
   "source": [
    "# Homework 2 is due "
   ]
  },
  {
   "cell_type": "markdown",
   "metadata": {},
   "source": [
    "# Recurrent Neural Network (RNN)\n",
    "---"
   ]
  },
  {
   "cell_type": "markdown",
   "metadata": {},
   "source": [
    "- The idea behind RNNs is to make use of sequential information\n",
    "\n",
    "- In a traditional neural network we assume that all inputs (and outputs) are independent of each other. But for many tasks that’s a very bad idea\n",
    "\n",
    "- If you want to predict the next word in a sentence you better know which words came before it\n",
    "\n",
    "- Another way to think about RNNs is that they have a “memory” which captures information about what has been calculated so far\n",
    "\n"
   ]
  },
  {
   "cell_type": "code",
   "execution_count": 3,
   "metadata": {},
   "outputs": [],
   "source": [
    "# from keras.datasets import mnist\n",
    "# import numpy as np\n",
    "# from keras.models import Sequential\n",
    "# from keras.layers import Dense, Dropout, Activation\n",
    "# from keras.layers import LSTM\n",
    "# import keras\n",
    "\n",
    "# (x_train, y_train), (x_test, y_test) = mnist.load_data()\n",
    "# x_train = x_train/np.max(x_train)\n",
    "# x_test = x_test/np.max(x_test)\n",
    "# y_train = keras.utils.to_categorical(y_train, 10)\n",
    "# y_test = keras.utils.to_categorical(y_test, 10)\n",
    "\n",
    "# # print(x_train[1])\n",
    "# x_train = x_train.reshape(x_train.shape[0], 28, 28)\n",
    "# x_test = x_test.reshape(x_test.shape[0], 28, 28)\n",
    "# print(x_train[0])\n",
    "# nb_units = 50\n",
    "\n",
    "# model = Sequential()\n",
    "# # model.add(LSTM(256, input_dim=1, input_length=5))\n",
    "# model.add(LSTM(nb_units, input_shape=(28, 28), return_sequences=True))\n",
    "# model.add(LSTM(nb_units))\n",
    "# model.add(Dense(units=10, activation='softmax'))\n",
    "# # 2.5 Compile the model.\n",
    "# model.compile(loss='categorical_crossentropy', optimizer='adam', metrics=['accuracy'])\n",
    "# # 2.6 Print out model.summary\n",
    "# epochs = 3\n",
    "\n",
    "# history = model.fit(x_train,\n",
    "#                     y_train,\n",
    "#                     epochs=epochs,\n",
    "#                     batch_size=128,\n",
    "#                     verbose=1,\n",
    "#                     validation_split=0.2)\n",
    "\n",
    "# scores = model.evaluate(x_test, y_test, verbose=2)\n",
    "# print(\"%s: %.2f%%\" % (model.metrics_names[1], scores[1]*100))"
   ]
  },
  {
   "cell_type": "markdown",
   "metadata": {},
   "source": [
    "# Activity: Verify the number of parameters for LSTM in Keras\n",
    "---"
   ]
  },
  {
   "cell_type": "code",
   "execution_count": 4,
   "metadata": {},
   "outputs": [
    {
     "name": "stderr",
     "output_type": "stream",
     "text": [
      "Using TensorFlow backend.\n",
      "/anaconda3/lib/python3.7/importlib/_bootstrap.py:219: RuntimeWarning: compiletime version 3.6 of module 'tensorflow.python.framework.fast_tensor_util' does not match runtime version 3.7\n",
      "  return f(*args, **kwds)\n"
     ]
    },
    {
     "name": "stdout",
     "output_type": "stream",
     "text": [
      "(2, 5, 1)\n",
      "_________________________________________________________________\n",
      "Layer (type)                 Output Shape              Param #   \n",
      "=================================================================\n",
      "lstm_1 (LSTM)                (None, 10)                480       \n",
      "=================================================================\n",
      "Total params: 480\n",
      "Trainable params: 480\n",
      "Non-trainable params: 0\n",
      "_________________________________________________________________\n",
      "[[[0]\n",
      "  [1]\n",
      "  [2]\n",
      "  [3]\n",
      "  [4]]\n",
      "\n",
      " [[5]\n",
      "  [1]\n",
      "  [2]\n",
      "  [3]\n",
      "  [6]]]\n",
      "[[ 0.22520828  0.24277784 -0.3824973  -0.0145005  -0.31499875 -0.04800079\n",
      "  -0.15652552  0.02266862 -0.10992296 -0.11435951]\n",
      " [ 0.13433631  0.23496096 -0.5245246  -0.00611457 -0.48168144 -0.02399455\n",
      "  -0.0891496   0.04956005 -0.10912137 -0.09613032]]\n",
      "480\n",
      "_________________________________________________________________\n",
      "Layer (type)                 Output Shape              Param #   \n",
      "=================================================================\n",
      "lstm_1 (LSTM)                (None, 10)                480       \n",
      "=================================================================\n",
      "Total params: 480\n",
      "Trainable params: 480\n",
      "Non-trainable params: 0\n",
      "_________________________________________________________________\n",
      "None\n"
     ]
    }
   ],
   "source": [
    "from keras.models import Sequential\n",
    "from keras.layers import Dense, Dropout, Activation\n",
    "from keras.layers import Embedding\n",
    "from keras.layers import LSTM\n",
    "import numpy as np\n",
    "\n",
    "input_array = np.array([[[0], [1], [2], [3], [4]], \n",
    "                        [[5], [1], [2], [3], [6]]])\n",
    "print(input_array.shape)\n",
    "model = Sequential()\n",
    "# model.add(LSTM(256, input_dim=1, input_length=5))\n",
    "model.add(LSTM(10, input_shape=(5, 1), return_sequences=False))\n",
    "model.summary()\n",
    "print(input_array)\n",
    "model.compile('rmsprop', 'mse')\n",
    "output_array = model.predict(input_array)\n",
    "print(output_array)\n",
    "# the number of parameters of a LSTM layer in Keras equals to\n",
    "# params = 4 * ((size_of_input + 1) * size_of_output + size_of_output^2)\n",
    "n_params = 4 * ((1 + 1) * 10 + 10**2)\n",
    "# 2 is the number of sample, 5 number of steps, 1 is number of features\n",
    "print(n_params)\n",
    "print(model.summary())"
   ]
  },
  {
   "cell_type": "code",
   "execution_count": null,
   "metadata": {},
   "outputs": [],
   "source": []
  }
 ],
 "metadata": {
  "kernelspec": {
   "display_name": "Python 3",
   "language": "python",
   "name": "python3"
  },
  "language_info": {
   "codemirror_mode": {
    "name": "ipython",
    "version": 3
   },
   "file_extension": ".py",
   "mimetype": "text/x-python",
   "name": "python",
   "nbconvert_exporter": "python",
   "pygments_lexer": "ipython3",
   "version": "3.7.1"
  }
 },
 "nbformat": 4,
 "nbformat_minor": 2
}
