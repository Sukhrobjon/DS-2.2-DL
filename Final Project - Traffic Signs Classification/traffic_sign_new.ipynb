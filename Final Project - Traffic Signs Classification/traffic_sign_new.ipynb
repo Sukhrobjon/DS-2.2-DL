{
 "cells": [
  {
   "cell_type": "markdown",
   "metadata": {},
   "source": [
    "notes: https://github.com/Navkrish04/German-Traffic-Sign-Classification/blob/master/German_Traffic_Data_Final_v1.ipynb"
   ]
  },
  {
   "cell_type": "markdown",
   "metadata": {},
   "source": [
    "# German Traffic Sign Image Recognition\n",
    "---"
   ]
  },
  {
   "cell_type": "markdown",
   "metadata": {},
   "source": [
    "## Import Requiered Libraries"
   ]
  },
  {
   "cell_type": "code",
   "execution_count": 2,
   "metadata": {},
   "outputs": [],
   "source": [
    "import os\n",
    "import time as time\n",
    "\n",
    "import numpy as np\n",
    "np.random.seed(40)\n",
    "import matplotlib.pyplot as plt\n",
    "import matplotlib.gridspec as gridspec\n",
    "import math\n",
    "%matplotlib inline\n",
    "\n",
    "from PIL import Image\n",
    "import time\n",
    "from datetime import timedelta\n",
    "import pandas as pd\n",
    "from sklearn.metrics import accuracy_score\n",
    "from matplotlib import pyplot\n",
    "import skimage.morphology as morp\n",
    "from skimage.filters import rank\n",
    "\n",
    "import keras\n",
    "\n",
    "from keras.models import Sequential\n",
    "from keras.layers import Dense, Flatten\n",
    "from keras.layers import Dropout # new!\n",
    "from keras.layers.normalization import BatchNormalization # new!\n",
    "from keras import regularizers # new! \n",
    "from keras.optimizers import SGD\n",
    "from keras.layers import Flatten, Conv2D, MaxPooling2D # new!\n",
    "from keras.callbacks import ModelCheckpoint\n",
    "\n",
    "import cv2\n",
    "\n",
    "# os.chdir(\"/Users/Navinkrishnakumar/Documents/DeepLearning\")\n",
    "# os.getcwd()"
   ]
  },
  {
   "cell_type": "code",
   "execution_count": null,
   "metadata": {},
   "outputs": [],
   "source": [
    "import pickle\n",
    "training_file = \"traffic_signs_pickled_data/train.p\"\n",
    "testing_file = \"/Users/Navinkrishnakumar/Documents/DeepLearning/Traffic_Sign_Dataset/test.p\"\n",
    "validation_file = \"/Users/Navinkrishnakumar/Documents/DeepLearning/Traffic_Sign_Dataset/valid.p\"\n",
    "\n",
    "with open(training_file, mode='rb') as f:\n",
    "    train = pickle.load(f)\n",
    "with open(testing_file, mode='rb') as f:\n",
    "    test = pickle.load(f)\n",
    "with open(validation_file, mode='rb') as f:\n",
    "    valid = pickle.load(f)\n",
    "    \n",
    "X_train, y_train = train['features'], train['labels']\n",
    "X_test, y_test = test['features'], test['labels']\n",
    "X_valid , y_valid = valid['features'], valid['labels']"
   ]
  }
 ],
 "metadata": {
  "kernelspec": {
   "display_name": "Python 3",
   "language": "python",
   "name": "python3"
  },
  "language_info": {
   "codemirror_mode": {
    "name": "ipython",
    "version": 3
   },
   "file_extension": ".py",
   "mimetype": "text/x-python",
   "name": "python",
   "nbconvert_exporter": "python",
   "pygments_lexer": "ipython3",
   "version": "3.7.1"
  }
 },
 "nbformat": 4,
 "nbformat_minor": 2
}
