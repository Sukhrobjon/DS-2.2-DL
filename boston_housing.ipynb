{
 "cells": [
  {
   "cell_type": "code",
   "execution_count": 1,
   "metadata": {},
   "outputs": [],
   "source": [
    "# import the libraries \n",
    "import numpy as np\n",
    "import pandas as pd\n",
    "import matplotlib.pyplot as plt\n",
    "\n",
    "\n",
    "# load boston data\n",
    "from sklearn.datasets import load_boston \n",
    "\n",
    "from sklearn.model_selection import train_test_split\n",
    "from sklearn.linear_model import LinearRegression\n",
    "from sklearn.metrics import mean_squared_error, r2_score"
   ]
  },
  {
   "cell_type": "code",
   "execution_count": 2,
   "metadata": {},
   "outputs": [],
   "source": [
    "boston = load_boston()\n",
    "# print(boston.DESCR)"
   ]
  },
  {
   "cell_type": "code",
   "execution_count": 3,
   "metadata": {},
   "outputs": [],
   "source": [
    "# builind the dataframe\n",
    "\n",
    "dataset = pd.DataFrame(data=boston.data, columns=boston.feature_names)\n",
    "target = pd.DataFrame(data=boston.target, columns=[\"MEDV\"])"
   ]
  },
  {
   "cell_type": "code",
   "execution_count": 4,
   "metadata": {},
   "outputs": [
    {
     "data": {
      "text/html": [
       "<div>\n",
       "<style scoped>\n",
       "    .dataframe tbody tr th:only-of-type {\n",
       "        vertical-align: middle;\n",
       "    }\n",
       "\n",
       "    .dataframe tbody tr th {\n",
       "        vertical-align: top;\n",
       "    }\n",
       "\n",
       "    .dataframe thead th {\n",
       "        text-align: right;\n",
       "    }\n",
       "</style>\n",
       "<table border=\"1\" class=\"dataframe\">\n",
       "  <thead>\n",
       "    <tr style=\"text-align: right;\">\n",
       "      <th></th>\n",
       "      <th>CRIM</th>\n",
       "      <th>ZN</th>\n",
       "      <th>INDUS</th>\n",
       "      <th>CHAS</th>\n",
       "      <th>NOX</th>\n",
       "      <th>RM</th>\n",
       "      <th>AGE</th>\n",
       "      <th>DIS</th>\n",
       "      <th>RAD</th>\n",
       "      <th>TAX</th>\n",
       "      <th>PTRATIO</th>\n",
       "      <th>B</th>\n",
       "      <th>LSTAT</th>\n",
       "    </tr>\n",
       "  </thead>\n",
       "  <tbody>\n",
       "    <tr>\n",
       "      <th>0</th>\n",
       "      <td>0.00632</td>\n",
       "      <td>18.0</td>\n",
       "      <td>2.31</td>\n",
       "      <td>0.0</td>\n",
       "      <td>0.538</td>\n",
       "      <td>6.575</td>\n",
       "      <td>65.2</td>\n",
       "      <td>4.0900</td>\n",
       "      <td>1.0</td>\n",
       "      <td>296.0</td>\n",
       "      <td>15.3</td>\n",
       "      <td>396.90</td>\n",
       "      <td>4.98</td>\n",
       "    </tr>\n",
       "    <tr>\n",
       "      <th>1</th>\n",
       "      <td>0.02731</td>\n",
       "      <td>0.0</td>\n",
       "      <td>7.07</td>\n",
       "      <td>0.0</td>\n",
       "      <td>0.469</td>\n",
       "      <td>6.421</td>\n",
       "      <td>78.9</td>\n",
       "      <td>4.9671</td>\n",
       "      <td>2.0</td>\n",
       "      <td>242.0</td>\n",
       "      <td>17.8</td>\n",
       "      <td>396.90</td>\n",
       "      <td>9.14</td>\n",
       "    </tr>\n",
       "    <tr>\n",
       "      <th>2</th>\n",
       "      <td>0.02729</td>\n",
       "      <td>0.0</td>\n",
       "      <td>7.07</td>\n",
       "      <td>0.0</td>\n",
       "      <td>0.469</td>\n",
       "      <td>7.185</td>\n",
       "      <td>61.1</td>\n",
       "      <td>4.9671</td>\n",
       "      <td>2.0</td>\n",
       "      <td>242.0</td>\n",
       "      <td>17.8</td>\n",
       "      <td>392.83</td>\n",
       "      <td>4.03</td>\n",
       "    </tr>\n",
       "    <tr>\n",
       "      <th>3</th>\n",
       "      <td>0.03237</td>\n",
       "      <td>0.0</td>\n",
       "      <td>2.18</td>\n",
       "      <td>0.0</td>\n",
       "      <td>0.458</td>\n",
       "      <td>6.998</td>\n",
       "      <td>45.8</td>\n",
       "      <td>6.0622</td>\n",
       "      <td>3.0</td>\n",
       "      <td>222.0</td>\n",
       "      <td>18.7</td>\n",
       "      <td>394.63</td>\n",
       "      <td>2.94</td>\n",
       "    </tr>\n",
       "    <tr>\n",
       "      <th>4</th>\n",
       "      <td>0.06905</td>\n",
       "      <td>0.0</td>\n",
       "      <td>2.18</td>\n",
       "      <td>0.0</td>\n",
       "      <td>0.458</td>\n",
       "      <td>7.147</td>\n",
       "      <td>54.2</td>\n",
       "      <td>6.0622</td>\n",
       "      <td>3.0</td>\n",
       "      <td>222.0</td>\n",
       "      <td>18.7</td>\n",
       "      <td>396.90</td>\n",
       "      <td>5.33</td>\n",
       "    </tr>\n",
       "  </tbody>\n",
       "</table>\n",
       "</div>"
      ],
      "text/plain": [
       "      CRIM    ZN  INDUS  CHAS    NOX     RM   AGE     DIS  RAD    TAX  \\\n",
       "0  0.00632  18.0   2.31   0.0  0.538  6.575  65.2  4.0900  1.0  296.0   \n",
       "1  0.02731   0.0   7.07   0.0  0.469  6.421  78.9  4.9671  2.0  242.0   \n",
       "2  0.02729   0.0   7.07   0.0  0.469  7.185  61.1  4.9671  2.0  242.0   \n",
       "3  0.03237   0.0   2.18   0.0  0.458  6.998  45.8  6.0622  3.0  222.0   \n",
       "4  0.06905   0.0   2.18   0.0  0.458  7.147  54.2  6.0622  3.0  222.0   \n",
       "\n",
       "   PTRATIO       B  LSTAT  \n",
       "0     15.3  396.90   4.98  \n",
       "1     17.8  396.90   9.14  \n",
       "2     17.8  392.83   4.03  \n",
       "3     18.7  394.63   2.94  \n",
       "4     18.7  396.90   5.33  "
      ]
     },
     "execution_count": 4,
     "metadata": {},
     "output_type": "execute_result"
    }
   ],
   "source": [
    "dataset.head()"
   ]
  },
  {
   "cell_type": "code",
   "execution_count": null,
   "metadata": {},
   "outputs": [],
   "source": [
    "X = dataset\n",
    "y = target"
   ]
  },
  {
   "cell_type": "code",
   "execution_count": null,
   "metadata": {},
   "outputs": [],
   "source": []
  },
  {
   "cell_type": "markdown",
   "metadata": {},
   "source": [
    "# Train Test Split \n",
    "---"
   ]
  },
  {
   "cell_type": "code",
   "execution_count": null,
   "metadata": {},
   "outputs": [],
   "source": [
    "X_train, X_test, y_train, y_test = train_test_split(X, y, test_size = 0.25, random_state = 0)"
   ]
  },
  {
   "cell_type": "markdown",
   "metadata": {},
   "source": [
    "# Scaling the data\n",
    "---"
   ]
  },
  {
   "cell_type": "code",
   "execution_count": null,
   "metadata": {},
   "outputs": [],
   "source": [
    "from sklearn.preprocessing import StandardScaler\n",
    "scaler = StandardScaler()\n",
    "X = scaler.fit_transform(X)\n",
    "X_test = scaler.transform(X_test)\n",
    "X_train = scaler.transform(X_train)"
   ]
  },
  {
   "cell_type": "markdown",
   "metadata": {},
   "source": [
    "# Keras model"
   ]
  },
  {
   "cell_type": "code",
   "execution_count": null,
   "metadata": {},
   "outputs": [
    {
     "name": "stderr",
     "output_type": "stream",
     "text": [
      "Using TensorFlow backend.\n",
      "/anaconda3/lib/python3.7/importlib/_bootstrap.py:219: RuntimeWarning: compiletime version 3.6 of module 'tensorflow.python.framework.fast_tensor_util' does not match runtime version 3.7\n",
      "  return f(*args, **kwds)\n"
     ]
    }
   ],
   "source": [
    "\n",
    "import keras\n",
    "from keras.models import Sequential\n",
    "from keras.layers import Dense"
   ]
  },
  {
   "cell_type": "markdown",
   "metadata": {},
   "source": [
    "# Initialize the model and add layers\n",
    "---"
   ]
  },
  {
   "cell_type": "code",
   "execution_count": null,
   "metadata": {},
   "outputs": [],
   "source": [
    "model = Sequential()\n",
    "\n",
    "# input layer\n",
    "# units is the number of nodes in hidden layer\n",
    "# input dimension is the number of features and define them once in the input layer\n",
    "model.add(Dense(activation=\"linear\", input_dim=13, units=1, kernel_initializer=\"uniform\"))\n",
    "\n",
    "# Adding output layer\n",
    "# model.add(Dense(activation=\"linear\", units=1, kernel_initializer=\"uniform\"))\n"
   ]
  },
  {
   "cell_type": "markdown",
   "metadata": {},
   "source": [
    "## Compiling the model"
   ]
  },
  {
   "cell_type": "code",
   "execution_count": null,
   "metadata": {},
   "outputs": [],
   "source": [
    "# Compile our ANN with Adam GD, Mean Squared Error error metric, and we are optimizing for accuracy\n",
    "model.compile(optimizer='adam', loss='mse', metrics=['mse'])"
   ]
  },
  {
   "cell_type": "code",
   "execution_count": null,
   "metadata": {},
   "outputs": [
    {
     "name": "stdout",
     "output_type": "stream",
     "text": [
      "Epoch 1/100\n",
      "379/379 [==============================] - 0s 1ms/step - loss: 584.3668 - mean_squared_error: 584.3668\n",
      "Epoch 2/100\n",
      "379/379 [==============================] - 0s 899us/step - loss: 560.9203 - mean_squared_error: 560.9203\n",
      "Epoch 3/100\n",
      "379/379 [==============================] - 0s 828us/step - loss: 539.3700 - mean_squared_error: 539.3700\n",
      "Epoch 4/100\n",
      "379/379 [==============================] - 0s 860us/step - loss: 518.9564 - mean_squared_error: 518.9564\n",
      "Epoch 5/100\n",
      "379/379 [==============================] - 0s 791us/step - loss: 499.7068 - mean_squared_error: 499.7068\n",
      "Epoch 6/100\n",
      "379/379 [==============================] - 0s 921us/step - loss: 481.5083 - mean_squared_error: 481.5083\n",
      "Epoch 7/100\n",
      "379/379 [==============================] - 1s 1ms/step - loss: 464.0318 - mean_squared_error: 464.0318\n",
      "Epoch 8/100\n",
      "379/379 [==============================] - 0s 826us/step - loss: 447.3695 - mean_squared_error: 447.3695\n",
      "Epoch 9/100\n",
      "379/379 [==============================] - 0s 929us/step - loss: 431.4301 - mean_squared_error: 431.4301\n",
      "Epoch 10/100\n",
      "379/379 [==============================] - 0s 1ms/step - loss: 415.9365 - mean_squared_error: 415.9365\n",
      "Epoch 11/100\n",
      "379/379 [==============================] - 0s 790us/step - loss: 401.0571 - mean_squared_error: 401.0571\n",
      "Epoch 12/100\n",
      "379/379 [==============================] - 0s 843us/step - loss: 386.5923 - mean_squared_error: 386.5923\n",
      "Epoch 13/100\n",
      "379/379 [==============================] - 0s 1ms/step - loss: 372.5284 - mean_squared_error: 372.5284\n",
      "Epoch 14/100\n",
      "379/379 [==============================] - 0s 871us/step - loss: 358.8807 - mean_squared_error: 358.8807\n",
      "Epoch 15/100\n",
      "379/379 [==============================] - 0s 994us/step - loss: 345.6937 - mean_squared_error: 345.6937\n",
      "Epoch 16/100\n",
      "379/379 [==============================] - 0s 1ms/step - loss: 332.7554 - mean_squared_error: 332.7554\n",
      "Epoch 17/100\n",
      "379/379 [==============================] - 0s 781us/step - loss: 320.2037 - mean_squared_error: 320.2037\n",
      "Epoch 18/100\n",
      "379/379 [==============================] - 0s 843us/step - loss: 307.9316 - mean_squared_error: 307.9316\n",
      "Epoch 19/100\n",
      "379/379 [==============================] - 0s 785us/step - loss: 296.1018 - mean_squared_error: 296.1018\n",
      "Epoch 20/100\n",
      "379/379 [==============================] - 0s 882us/step - loss: 284.4671 - mean_squared_error: 284.4671\n",
      "Epoch 21/100\n",
      "379/379 [==============================] - 0s 914us/step - loss: 273.1383 - mean_squared_error: 273.1383\n",
      "Epoch 22/100\n",
      "379/379 [==============================] - 0s 889us/step - loss: 262.2058 - mean_squared_error: 262.2058\n",
      "Epoch 23/100\n",
      "379/379 [==============================] - 0s 958us/step - loss: 251.4424 - mean_squared_error: 251.44240s - loss: 251.0100 - mean_squared_error: 251.01\n",
      "Epoch 24/100\n",
      "379/379 [==============================] - 0s 921us/step - loss: 240.9994 - mean_squared_error: 240.9994\n",
      "Epoch 25/100\n",
      "379/379 [==============================] - 0s 881us/step - loss: 230.8503 - mean_squared_error: 230.8503\n",
      "Epoch 26/100\n",
      "379/379 [==============================] - 0s 1ms/step - loss: 220.9628 - mean_squared_error: 220.9628\n",
      "Epoch 27/100\n",
      "379/379 [==============================] - 0s 1ms/step - loss: 211.4256 - mean_squared_error: 211.4256\n",
      "Epoch 28/100\n",
      "379/379 [==============================] - 0s 892us/step - loss: 202.0952 - mean_squared_error: 202.0952\n",
      "Epoch 29/100\n",
      "379/379 [==============================] - 0s 817us/step - loss: 193.0618 - mean_squared_error: 193.0618\n",
      "Epoch 30/100\n",
      "379/379 [==============================] - 0s 849us/step - loss: 184.3031 - mean_squared_error: 184.3031\n",
      "Epoch 31/100\n",
      "379/379 [==============================] - 0s 982us/step - loss: 175.7972 - mean_squared_error: 175.7972\n",
      "Epoch 32/100\n",
      "379/379 [==============================] - 0s 885us/step - loss: 167.5498 - mean_squared_error: 167.5498\n",
      "Epoch 33/100\n",
      "379/379 [==============================] - 0s 1ms/step - loss: 159.5977 - mean_squared_error: 159.5977\n",
      "Epoch 34/100\n",
      "379/379 [==============================] - 0s 1ms/step - loss: 151.8257 - mean_squared_error: 151.8257\n",
      "Epoch 35/100\n",
      "379/379 [==============================] - 0s 863us/step - loss: 144.3969 - mean_squared_error: 144.3969\n",
      "Epoch 36/100\n",
      "379/379 [==============================] - 0s 1ms/step - loss: 137.2495 - mean_squared_error: 137.2495: 0s - loss: 143.8378 - mean_squared_error: 143.\n",
      "Epoch 37/100\n",
      "379/379 [==============================] - 0s 1ms/step - loss: 130.3198 - mean_squared_error: 130.3198\n",
      "Epoch 38/100\n",
      "379/379 [==============================] - 0s 857us/step - loss: 123.6566 - mean_squared_error: 123.6566\n",
      "Epoch 39/100\n",
      "379/379 [==============================] - 0s 981us/step - loss: 117.2308 - mean_squared_error: 117.2308\n",
      "Epoch 40/100\n",
      "379/379 [==============================] - 0s 896us/step - loss: 111.0571 - mean_squared_error: 111.0571\n",
      "Epoch 41/100\n",
      "379/379 [==============================] - 0s 919us/step - loss: 105.1696 - mean_squared_error: 105.1696\n",
      "Epoch 42/100\n",
      "379/379 [==============================] - 0s 882us/step - loss: 99.4648 - mean_squared_error: 99.4648\n",
      "Epoch 43/100\n",
      "379/379 [==============================] - 0s 825us/step - loss: 94.0334 - mean_squared_error: 94.0334\n",
      "Epoch 44/100\n",
      "379/379 [==============================] - 0s 886us/step - loss: 88.8643 - mean_squared_error: 88.8643\n",
      "Epoch 45/100\n",
      "379/379 [==============================] - 0s 927us/step - loss: 83.9134 - mean_squared_error: 83.9134\n",
      "Epoch 46/100\n",
      "379/379 [==============================] - 0s 822us/step - loss: 79.2318 - mean_squared_error: 79.2318\n",
      "Epoch 47/100\n",
      "379/379 [==============================] - 0s 762us/step - loss: 74.7560 - mean_squared_error: 74.7560\n",
      "Epoch 48/100\n",
      "379/379 [==============================] - 0s 777us/step - loss: 70.5549 - mean_squared_error: 70.5549\n",
      "Epoch 49/100\n",
      "379/379 [==============================] - 0s 788us/step - loss: 66.5390 - mean_squared_error: 66.5390\n",
      "Epoch 50/100\n",
      "379/379 [==============================] - 0s 817us/step - loss: 62.7423 - mean_squared_error: 62.7423\n",
      "Epoch 51/100\n",
      "379/379 [==============================] - 0s 874us/step - loss: 59.1901 - mean_squared_error: 59.1901\n",
      "Epoch 52/100\n",
      "379/379 [==============================] - 0s 812us/step - loss: 55.8398 - mean_squared_error: 55.8398\n",
      "Epoch 53/100\n",
      "379/379 [==============================] - 0s 745us/step - loss: 52.6860 - mean_squared_error: 52.6860\n",
      "Epoch 54/100\n",
      "379/379 [==============================] - 0s 767us/step - loss: 49.7474 - mean_squared_error: 49.7474\n",
      "Epoch 55/100\n",
      "379/379 [==============================] - 0s 769us/step - loss: 47.0205 - mean_squared_error: 47.0205\n",
      "Epoch 56/100\n",
      "379/379 [==============================] - 0s 780us/step - loss: 44.4572 - mean_squared_error: 44.4572\n",
      "Epoch 57/100\n",
      "379/379 [==============================] - 0s 728us/step - loss: 42.0939 - mean_squared_error: 42.0939\n",
      "Epoch 58/100\n",
      "379/379 [==============================] - 0s 793us/step - loss: 39.9129 - mean_squared_error: 39.9129\n",
      "Epoch 59/100\n",
      "379/379 [==============================] - 0s 800us/step - loss: 37.8895 - mean_squared_error: 37.8895\n",
      "Epoch 60/100\n",
      "379/379 [==============================] - 0s 759us/step - loss: 36.0655 - mean_squared_error: 36.0655\n",
      "Epoch 61/100\n",
      "379/379 [==============================] - 0s 764us/step - loss: 34.3860 - mean_squared_error: 34.3860\n",
      "Epoch 62/100\n",
      "379/379 [==============================] - 0s 907us/step - loss: 32.8398 - mean_squared_error: 32.8398\n",
      "Epoch 63/100\n",
      "379/379 [==============================] - 0s 782us/step - loss: 31.4342 - mean_squared_error: 31.4342\n",
      "Epoch 64/100\n",
      "379/379 [==============================] - 0s 796us/step - loss: 30.1809 - mean_squared_error: 30.1809\n",
      "Epoch 65/100\n",
      "379/379 [==============================] - 0s 926us/step - loss: 29.0412 - mean_squared_error: 29.0412\n",
      "Epoch 66/100\n",
      "379/379 [==============================] - 0s 872us/step - loss: 28.0519 - mean_squared_error: 28.0519\n",
      "Epoch 67/100\n",
      "379/379 [==============================] - 0s 1ms/step - loss: 27.1043 - mean_squared_error: 27.1043\n",
      "Epoch 68/100\n",
      "379/379 [==============================] - 0s 870us/step - loss: 26.2925 - mean_squared_error: 26.2925\n",
      "Epoch 69/100\n",
      "379/379 [==============================] - 0s 1ms/step - loss: 25.5537 - mean_squared_error: 25.5537\n",
      "Epoch 70/100\n"
     ]
    },
    {
     "name": "stdout",
     "output_type": "stream",
     "text": [
      "379/379 [==============================] - 0s 962us/step - loss: 24.9162 - mean_squared_error: 24.9162\n",
      "Epoch 71/100\n",
      "379/379 [==============================] - 0s 918us/step - loss: 24.3563 - mean_squared_error: 24.3563\n",
      "Epoch 72/100\n",
      "379/379 [==============================] - 0s 1ms/step - loss: 23.8666 - mean_squared_error: 23.8666\n",
      "Epoch 73/100\n",
      "379/379 [==============================] - 0s 796us/step - loss: 23.4194 - mean_squared_error: 23.4194\n",
      "Epoch 74/100\n",
      "379/379 [==============================] - 0s 865us/step - loss: 23.0370 - mean_squared_error: 23.03700s - loss: 23.3537 - mean_squared_error: 23.35\n",
      "Epoch 75/100\n",
      "379/379 [==============================] - 0s 818us/step - loss: 22.7013 - mean_squared_error: 22.7013\n",
      "Epoch 76/100\n",
      "379/379 [==============================] - 0s 764us/step - loss: 22.4028 - mean_squared_error: 22.4028\n",
      "Epoch 77/100\n",
      "379/379 [==============================] - 0s 759us/step - loss: 22.1473 - mean_squared_error: 22.1473\n",
      "Epoch 78/100\n",
      "379/379 [==============================] - 0s 792us/step - loss: 21.9177 - mean_squared_error: 21.9177\n",
      "Epoch 79/100\n",
      "379/379 [==============================] - 0s 888us/step - loss: 21.7135 - mean_squared_error: 21.7135\n",
      "Epoch 80/100\n",
      "379/379 [==============================] - 0s 870us/step - loss: 21.5496 - mean_squared_error: 21.5496\n",
      "Epoch 81/100\n",
      "379/379 [==============================] - 0s 1ms/step - loss: 21.4010 - mean_squared_error: 21.4010\n",
      "Epoch 82/100\n",
      "379/379 [==============================] - 1s 1ms/step - loss: 21.2903 - mean_squared_error: 21.2903\n",
      "Epoch 83/100\n",
      "379/379 [==============================] - 0s 1ms/step - loss: 21.1612 - mean_squared_error: 21.1612\n",
      "Epoch 84/100\n",
      "209/379 [===============>..............] - ETA: 0s - loss: 25.1047 - mean_squared_error: 25.1047"
     ]
    }
   ],
   "source": [
    "# Reminder: batch size is a hyperparameter that defines the number of samples to work \n",
    "# through before updating the internal model parameters\n",
    "# For the difference between epochs and batchsize, \n",
    "# read: https://machinelearningmastery.com/difference-between-a-batch-and-an-epoch/\n",
    "\n",
    "# Fitting the ANN to the training set\n",
    "model.fit(X_train, y_train, batch_size = 1, epochs=100)"
   ]
  },
  {
   "cell_type": "markdown",
   "metadata": {},
   "source": [
    "## Predicting the model"
   ]
  },
  {
   "cell_type": "code",
   "execution_count": null,
   "metadata": {},
   "outputs": [],
   "source": [
    "y_pred = model.predict(X_test)"
   ]
  },
  {
   "cell_type": "markdown",
   "metadata": {},
   "source": [
    "## Evaluate the model accuracy"
   ]
  },
  {
   "cell_type": "code",
   "execution_count": null,
   "metadata": {},
   "outputs": [],
   "source": [
    "r2_score(y_test, y_pred)"
   ]
  },
  {
   "cell_type": "code",
   "execution_count": null,
   "metadata": {},
   "outputs": [],
   "source": [
    "# different way of evaluating the keras model\n",
    "\n",
    "# score = model.evaluate(y_test, y_pred, batch_size=1)"
   ]
  },
  {
   "cell_type": "code",
   "execution_count": null,
   "metadata": {},
   "outputs": [],
   "source": []
  },
  {
   "cell_type": "code",
   "execution_count": null,
   "metadata": {},
   "outputs": [],
   "source": []
  }
 ],
 "metadata": {
  "kernelspec": {
   "display_name": "Python 3",
   "language": "python",
   "name": "python3"
  },
  "language_info": {
   "codemirror_mode": {
    "name": "ipython",
    "version": 3
   },
   "file_extension": ".py",
   "mimetype": "text/x-python",
   "name": "python",
   "nbconvert_exporter": "python",
   "pygments_lexer": "ipython3",
   "version": "3.7.1"
  }
 },
 "nbformat": 4,
 "nbformat_minor": 2
}
